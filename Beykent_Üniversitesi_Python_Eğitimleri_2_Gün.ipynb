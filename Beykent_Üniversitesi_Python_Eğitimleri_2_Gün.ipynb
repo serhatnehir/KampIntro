{
  "nbformat": 4,
  "nbformat_minor": 0,
  "metadata": {
    "colab": {
      "name": "Beykent Üniversitesi Python Eğitimleri - 2.Gün.ipynb",
      "provenance": [],
      "include_colab_link": true
    },
    "kernelspec": {
      "name": "python3",
      "display_name": "Python 3"
    }
  },
  "cells": [
    {
      "cell_type": "markdown",
      "metadata": {
        "id": "view-in-github",
        "colab_type": "text"
      },
      "source": [
        "<a href=\"https://colab.research.google.com/github/serhatnehir/KampIntro/blob/master/Beykent_%C3%9Cniversitesi_Python_E%C4%9Fitimleri_2_G%C3%BCn.ipynb\" target=\"_parent\"><img src=\"https://colab.research.google.com/assets/colab-badge.svg\" alt=\"Open In Colab\"/></a>"
      ]
    },
    {
      "cell_type": "markdown",
      "metadata": {
        "id": "FyyEIXZlE7iS"
      },
      "source": [
        "# Listeler"
      ]
    },
    {
      "cell_type": "code",
      "metadata": {
        "id": "CjP_WiuffYn0"
      },
      "source": [
        "List<int> liste1 = new List<int>(); 1,2,3,4,5,6,7,\"Fethi\""
      ],
      "execution_count": null,
      "outputs": []
    },
    {
      "cell_type": "code",
      "metadata": {
        "id": "m9_p71yw9tgV"
      },
      "source": [
        "liste = [1, 2, 3, 4, 5, \"Fethi\", True, 2.7]"
      ],
      "execution_count": null,
      "outputs": []
    },
    {
      "cell_type": "code",
      "metadata": {
        "id": "WP6f0fNe_JR1"
      },
      "source": [
        "liste"
      ],
      "execution_count": null,
      "outputs": []
    },
    {
      "cell_type": "code",
      "metadata": {
        "id": "bQMBthLV_M4x"
      },
      "source": [
        "type(liste)"
      ],
      "execution_count": null,
      "outputs": []
    },
    {
      "cell_type": "code",
      "metadata": {
        "id": "eY3A6egI_fnA"
      },
      "source": [
        "len(liste)"
      ],
      "execution_count": null,
      "outputs": []
    },
    {
      "cell_type": "code",
      "metadata": {
        "id": "_eTjJmce21kB"
      },
      "source": [
        "liste2 = [\"Fethi\", 7, True, 2.7]"
      ],
      "execution_count": null,
      "outputs": []
    },
    {
      "cell_type": "code",
      "metadata": {
        "id": "gKqIJvVh3H0I"
      },
      "source": [
        "liste2"
      ],
      "execution_count": null,
      "outputs": []
    },
    {
      "cell_type": "code",
      "metadata": {
        "id": "qboLjW4w3wzf"
      },
      "source": [
        "len(liste2) #length"
      ],
      "execution_count": null,
      "outputs": []
    },
    {
      "cell_type": "code",
      "metadata": {
        "id": "BCeuOwtn3Jsp"
      },
      "source": [
        "type(liste2)"
      ],
      "execution_count": null,
      "outputs": []
    },
    {
      "cell_type": "code",
      "metadata": {
        "id": "6L5hz7nP3MNi"
      },
      "source": [
        "print(type(liste2[0]))\n",
        "print(type(liste2[1]))"
      ],
      "execution_count": null,
      "outputs": []
    },
    {
      "cell_type": "code",
      "metadata": {
        "id": "LBzMsM6QfDx9"
      },
      "source": [
        "liste1 = [\"2\", 1, True]"
      ],
      "execution_count": null,
      "outputs": []
    },
    {
      "cell_type": "code",
      "metadata": {
        "id": "Hv_w_6Sxf4TM"
      },
      "source": [
        "liste1"
      ],
      "execution_count": null,
      "outputs": []
    },
    {
      "cell_type": "code",
      "metadata": {
        "id": "9SLyeoZ-gAmN"
      },
      "source": [
        "type(liste1)"
      ],
      "execution_count": null,
      "outputs": []
    },
    {
      "cell_type": "code",
      "metadata": {
        "id": "8lZ0Bh9wgE6c"
      },
      "source": [
        "type(liste1[0])"
      ],
      "execution_count": null,
      "outputs": []
    },
    {
      "cell_type": "markdown",
      "metadata": {
        "id": "uXycdCIcTEPU"
      },
      "source": [
        "# Karakter Dizileri (Strings) ve İndeskleme (Indexing)"
      ]
    },
    {
      "cell_type": "code",
      "metadata": {
        "id": "F5gzy_hM3hPD"
      },
      "source": [
        "stringDeger=\"Fethi\"\n",
        "type(stringDeger)"
      ],
      "execution_count": null,
      "outputs": []
    },
    {
      "cell_type": "code",
      "metadata": {
        "id": "4WTioQHYTGQF"
      },
      "source": [
        "hello = 'Hello'\n",
        "world = \"World\""
      ],
      "execution_count": null,
      "outputs": []
    },
    {
      "cell_type": "code",
      "metadata": {
        "id": "VlNeYzeqTVir"
      },
      "source": [
        "print(hello)\n",
        "print(type(hello))"
      ],
      "execution_count": null,
      "outputs": []
    },
    {
      "cell_type": "code",
      "metadata": {
        "id": "EQNj1XeP4K6g"
      },
      "source": [
        "isim=\"Fethi?*'., /123290\""
      ],
      "execution_count": null,
      "outputs": []
    },
    {
      "cell_type": "code",
      "metadata": {
        "id": "cck25bSi4g6J"
      },
      "source": [
        "len(isim)"
      ],
      "execution_count": null,
      "outputs": []
    },
    {
      "cell_type": "code",
      "metadata": {
        "id": "UbnigwvsTZuK"
      },
      "source": [
        "print(len(hello))\n",
        "print(world, len(world))\n",
        "#print(f\"world {len(world)}\")"
      ],
      "execution_count": null,
      "outputs": []
    },
    {
      "cell_type": "code",
      "metadata": {
        "id": "uYlxQfiGd_gy"
      },
      "source": [
        "\"\"\"\n",
        "c char\n",
        "s string\n",
        "d decimal\n",
        "\"\"\"\n",
        "#C dili\n",
        "#world2 = '%s %d %s' % (world, len(world),hello)\n",
        "print('%s %d %s' % (world, len(world), hello))"
      ],
      "execution_count": null,
      "outputs": []
    },
    {
      "cell_type": "code",
      "metadata": {
        "id": "pMP9ZkTtisL1"
      },
      "source": [
        "print(1.0+2)"
      ],
      "execution_count": null,
      "outputs": []
    },
    {
      "cell_type": "code",
      "metadata": {
        "id": "GLqwYoScTlqo"
      },
      "source": [
        "print(world +\" \"+ str(len(world)))\n",
        "#World+ +5=World 5"
      ],
      "execution_count": null,
      "outputs": []
    },
    {
      "cell_type": "code",
      "metadata": {
        "id": "OyY22MKZTp22"
      },
      "source": [
        "print(world+\": \" + str(len(world)))\n",
        "print(world,str(len(hello)))\n",
        "print(world + \" \" + str(len(world)))\n",
        "#World: 5"
      ],
      "execution_count": null,
      "outputs": []
    },
    {
      "cell_type": "code",
      "metadata": {
        "id": "7XecaLdRd8AD"
      },
      "source": [
        "print(hello)"
      ],
      "execution_count": null,
      "outputs": []
    },
    {
      "cell_type": "code",
      "metadata": {
        "id": "oxxMOaMYr-nR"
      },
      "source": [
        "liste=[1,2,\"Fethi\",True,7]\n",
        "\n",
        "print(liste[4])\n",
        "\"\"\"n elemanlı bi listem varsa sonuncu elemanı n-1\n",
        "5 elemanlı bi listem varsa sonuncu elemanı 4\"\"\""
      ],
      "execution_count": null,
      "outputs": []
    },
    {
      "cell_type": "code",
      "metadata": {
        "id": "nz9F_6sAjVsa"
      },
      "source": [
        "liste"
      ],
      "execution_count": null,
      "outputs": []
    },
    {
      "cell_type": "code",
      "metadata": {
        "id": "GRwORQCvA9eb"
      },
      "source": [
        "liste"
      ],
      "execution_count": null,
      "outputs": []
    },
    {
      "cell_type": "code",
      "metadata": {
        "id": "nAp_sk5LBK1R"
      },
      "source": [
        "#İNDEKSLER SIFIRDAN BAŞLAR"
      ],
      "execution_count": null,
      "outputs": []
    },
    {
      "cell_type": "code",
      "metadata": {
        "id": "Nqsw4aUKCRcs"
      },
      "source": [
        "liste[0]"
      ],
      "execution_count": null,
      "outputs": []
    },
    {
      "cell_type": "code",
      "metadata": {
        "id": "oJbG-RPSCCCP"
      },
      "source": [
        "0-1-2-3-4-5-6-7"
      ],
      "execution_count": null,
      "outputs": []
    },
    {
      "cell_type": "code",
      "metadata": {
        "id": "2WCrScfWA9i4"
      },
      "source": [
        "liste[-1]"
      ],
      "execution_count": null,
      "outputs": []
    },
    {
      "cell_type": "code",
      "metadata": {
        "id": "oPjkTArADp3_"
      },
      "source": [
        "l = [1,2,3]\n",
        "l"
      ],
      "execution_count": null,
      "outputs": []
    },
    {
      "cell_type": "code",
      "metadata": {
        "id": "-8qlnGdfDwLa"
      },
      "source": [
        "0-1-2"
      ],
      "execution_count": null,
      "outputs": []
    },
    {
      "cell_type": "code",
      "metadata": {
        "id": "u6FoSS_UD4UJ"
      },
      "source": [
        "1-2-3"
      ],
      "execution_count": null,
      "outputs": []
    },
    {
      "cell_type": "code",
      "metadata": {
        "id": "i9CTMb2cD6QT"
      },
      "source": [
        "l[-1]"
      ],
      "execution_count": null,
      "outputs": []
    },
    {
      "cell_type": "code",
      "metadata": {
        "id": "VZWoWO9xDjJC"
      },
      "source": [
        "*\n",
        "**\n",
        "***\n",
        "****\n",
        "***\n",
        "**\n",
        "*"
      ],
      "execution_count": null,
      "outputs": []
    },
    {
      "cell_type": "code",
      "metadata": {
        "id": "F8nScNgYBh6V"
      },
      "source": [
        "#8 elemanlı bir listede sonuncu index 7'dir\n",
        "# sonuncu index = len(liste)-1"
      ],
      "execution_count": null,
      "outputs": []
    },
    {
      "cell_type": "code",
      "metadata": {
        "id": "wF7X-BkFBxiL"
      },
      "source": [
        "liste[-8]"
      ],
      "execution_count": null,
      "outputs": []
    },
    {
      "cell_type": "code",
      "metadata": {
        "id": "67BY5Vo_A89e"
      },
      "source": [
        "1  -> 0.    -> -8\n",
        "2  -> 1.    -> -7\n",
        "3  -> 2.   -> -6\n",
        "4  -> 3.    -> -5\n",
        "5   -> 4.   -> -4\n",
        "\"Fethi\"   -> 5.   -> -3\n",
        "True   -> 6.   ->-2\n",
        "2.7    -> 7.  ->-1"
      ],
      "execution_count": null,
      "outputs": []
    },
    {
      "cell_type": "code",
      "metadata": {
        "id": "-uoXeo4dCObF"
      },
      "source": [
        ""
      ],
      "execution_count": null,
      "outputs": []
    },
    {
      "cell_type": "code",
      "metadata": {
        "id": "9rMRkXNpjXBq"
      },
      "source": [
        "print(type(liste[2])) # -> str\n",
        "print(type(liste[1])) # -> int"
      ],
      "execution_count": null,
      "outputs": []
    },
    {
      "cell_type": "code",
      "metadata": {
        "id": "3B_0pI0zkOz8"
      },
      "source": [
        "liste"
      ],
      "execution_count": null,
      "outputs": []
    },
    {
      "cell_type": "code",
      "metadata": {
        "id": "ufmxRf3XkQdD"
      },
      "source": [
        "\"\"\"print(liste[4])\n",
        "print(liste[-1])\n",
        "print(liste[-5])\n",
        "print(liste[0])\"\"\"\n",
        "print(len(liste))"
      ],
      "execution_count": null,
      "outputs": []
    },
    {
      "cell_type": "code",
      "metadata": {
        "id": "Rwzk5KLYDKG-"
      },
      "source": [
        "class insan:\n",
        "  hobiler = [yüzmek, spor, video oyunları, gitar çalmak, müzik]\n",
        "\n",
        "insan.hobiler"
      ],
      "execution_count": null,
      "outputs": []
    },
    {
      "cell_type": "code",
      "metadata": {
        "id": "arlVxy8C49by"
      },
      "source": [
        "# İndekslemeler"
      ],
      "execution_count": null,
      "outputs": []
    },
    {
      "cell_type": "code",
      "metadata": {
        "id": "mMYuDrQq5B7p"
      },
      "source": [
        "liste2"
      ],
      "execution_count": null,
      "outputs": []
    },
    {
      "cell_type": "code",
      "metadata": {
        "id": "mUIoieqnsT94"
      },
      "source": [
        "#75 - > 0 <-> 74  standart indeksleme\n",
        "#75 - > -1  <-> -75 tersine indeksleme"
      ],
      "execution_count": null,
      "outputs": []
    },
    {
      "cell_type": "code",
      "metadata": {
        "id": "Jw3-8OSK5MwS"
      },
      "source": [
        "isim=\"Fethi\""
      ],
      "execution_count": null,
      "outputs": []
    },
    {
      "cell_type": "code",
      "metadata": {
        "id": "aC0EUxHx5gaI"
      },
      "source": [
        "\"\"\"\n",
        "F   -   0\n",
        "e   -   1\n",
        "t   -   2\n",
        "h   -   3\n",
        "i   -   4\n",
        "\"\"\""
      ],
      "execution_count": null,
      "outputs": []
    },
    {
      "cell_type": "code",
      "metadata": {
        "id": "Y1T0EgNzfKm_"
      },
      "source": [
        "ornek[74]\n",
        "#ornek[-2]"
      ],
      "execution_count": null,
      "outputs": []
    },
    {
      "cell_type": "code",
      "metadata": {
        "id": "G5HGli1V5Rmh"
      },
      "source": [
        "isim[2]\n",
        "\n",
        "5 - 1 "
      ],
      "execution_count": null,
      "outputs": []
    },
    {
      "cell_type": "code",
      "metadata": {
        "id": "f4f93q0pe6JX"
      },
      "source": [
        "ornek=\"abc\"*25\n",
        "ornek"
      ],
      "execution_count": null,
      "outputs": []
    },
    {
      "cell_type": "code",
      "metadata": {
        "id": "a8muxZJS6HIz"
      },
      "source": [
        "print(ornek[74]==ornek[-1])"
      ],
      "execution_count": null,
      "outputs": []
    },
    {
      "cell_type": "code",
      "metadata": {
        "id": "fCK3qWEV6Lgx"
      },
      "source": [
        "Fethi"
      ],
      "execution_count": null,
      "outputs": []
    },
    {
      "cell_type": "code",
      "metadata": {
        "id": "vyI_Rbv06Xjj"
      },
      "source": [
        "F -   -5\n",
        "i -    4"
      ],
      "execution_count": null,
      "outputs": []
    },
    {
      "cell_type": "code",
      "metadata": {
        "id": "voTsVFm_tdaC"
      },
      "source": [
        "hello"
      ],
      "execution_count": null,
      "outputs": []
    },
    {
      "cell_type": "code",
      "metadata": {
        "id": "vZjNAoLVR5U0"
      },
      "source": [
        "print(hello[0])\n",
        "print(hello[1])"
      ],
      "execution_count": null,
      "outputs": []
    },
    {
      "cell_type": "code",
      "metadata": {
        "id": "OF9jtdKg6jBh"
      },
      "source": [
        "world= \"World\""
      ],
      "execution_count": null,
      "outputs": []
    },
    {
      "cell_type": "code",
      "metadata": {
        "id": "15ylXLfHehjE"
      },
      "source": [
        "print(world)"
      ],
      "execution_count": null,
      "outputs": []
    },
    {
      "cell_type": "code",
      "metadata": {
        "id": "snjcS6UJfoxd"
      },
      "source": [
        "W - 0 <-> -5\n",
        "o - 1 <-> -4\n",
        "r - 2 <-> -3\n",
        "l - 3 <-> -2 \n",
        "d - 4 <-> -1"
      ],
      "execution_count": null,
      "outputs": []
    },
    {
      "cell_type": "code",
      "metadata": {
        "id": "obQknvFZWF5t"
      },
      "source": [
        "print(world[-1])\n",
        "print(world[-3])"
      ],
      "execution_count": null,
      "outputs": []
    },
    {
      "cell_type": "code",
      "metadata": {
        "id": "Yuep59Iqf802"
      },
      "source": [
        "print(\"a\"+\" b\")\n",
        "print(1+4)\n",
        "print(\"7\"+4)"
      ],
      "execution_count": null,
      "outputs": []
    },
    {
      "cell_type": "code",
      "metadata": {
        "id": "CwVJZDqqWWyu"
      },
      "source": [
        "world[-6]"
      ],
      "execution_count": null,
      "outputs": []
    },
    {
      "cell_type": "code",
      "metadata": {
        "id": "0zG_UBbW_SFu"
      },
      "source": [
        "\"\"\"\n",
        "print(fethi[-6])\n",
        "\n",
        "print(fethi[-6]==fethi[0])\n",
        "\"\"\"\n",
        "fethi = \" fethi\" \n",
        "len(fethi)\n"
      ],
      "execution_count": null,
      "outputs": []
    },
    {
      "cell_type": "code",
      "metadata": {
        "id": "s7facSM97ZKx"
      },
      "source": [
        "\" fethi\""
      ],
      "execution_count": null,
      "outputs": []
    },
    {
      "cell_type": "code",
      "metadata": {
        "id": "QINhlEfH7Lg5"
      },
      "source": [
        "print(fethi[1])"
      ],
      "execution_count": null,
      "outputs": []
    },
    {
      "cell_type": "code",
      "metadata": {
        "id": "SVWisH-q7dr4"
      },
      "source": [
        "print(fethi[-2])"
      ],
      "execution_count": null,
      "outputs": []
    },
    {
      "cell_type": "code",
      "metadata": {
        "id": "iWFbEQvt7pj6"
      },
      "source": [
        "fethi[-10]"
      ],
      "execution_count": null,
      "outputs": []
    },
    {
      "cell_type": "code",
      "metadata": {
        "id": "t28yCI0R3fb5"
      },
      "source": [
        "fethi[-6]\n",
        "print(\"f\")"
      ],
      "execution_count": null,
      "outputs": []
    },
    {
      "cell_type": "code",
      "metadata": {
        "id": "jrj9IAJLhV9R"
      },
      "source": [
        "print(fethi[-1])"
      ],
      "execution_count": null,
      "outputs": []
    },
    {
      "cell_type": "code",
      "metadata": {
        "id": "hLkzCIvmiCuk"
      },
      "source": [
        "print(hello)"
      ],
      "execution_count": null,
      "outputs": []
    },
    {
      "cell_type": "code",
      "metadata": {
        "id": "qe9xCjQ3pKjK"
      },
      "source": [
        "print(fethi)\n",
        "list(fethi)"
      ],
      "execution_count": null,
      "outputs": []
    },
    {
      "cell_type": "code",
      "metadata": {
        "id": "CFhF3DLupXjk"
      },
      "source": [
        "list(8)"
      ],
      "execution_count": null,
      "outputs": []
    },
    {
      "cell_type": "code",
      "metadata": {
        "id": "DFahIt6xptc0"
      },
      "source": [
        "list(hello)"
      ],
      "execution_count": null,
      "outputs": []
    },
    {
      "cell_type": "code",
      "metadata": {
        "id": "rXmBF4OyF-h0"
      },
      "source": [
        "a = isim[5]\n",
        "a"
      ],
      "execution_count": null,
      "outputs": []
    },
    {
      "cell_type": "code",
      "metadata": {
        "id": "KM8jJr-d7_Dw"
      },
      "source": [
        "#Slicing"
      ],
      "execution_count": null,
      "outputs": []
    },
    {
      "cell_type": "code",
      "metadata": {
        "id": "CqCUxsw28fNj"
      },
      "source": [
        "isim=\"Fethibör\" "
      ],
      "execution_count": null,
      "outputs": []
    },
    {
      "cell_type": "code",
      "metadata": {
        "id": "scl9CEXZ8ihI"
      },
      "source": [
        "isim"
      ],
      "execution_count": null,
      "outputs": []
    },
    {
      "cell_type": "code",
      "metadata": {
        "id": "nkRm17xEGv-m"
      },
      "source": [
        ""
      ],
      "execution_count": null,
      "outputs": []
    },
    {
      "cell_type": "code",
      "metadata": {
        "id": "-xPmWH_3GbvU"
      },
      "source": [
        "isim[0:6]"
      ],
      "execution_count": null,
      "outputs": []
    },
    {
      "cell_type": "code",
      "metadata": {
        "id": "_8CZRnySGl4D"
      },
      "source": [
        "isim[:6]"
      ],
      "execution_count": null,
      "outputs": []
    },
    {
      "cell_type": "code",
      "metadata": {
        "id": "msFQro4PHWnT"
      },
      "source": [
        "isim"
      ],
      "execution_count": null,
      "outputs": []
    },
    {
      "cell_type": "code",
      "metadata": {
        "id": "UWV2qkgRHFl2"
      },
      "source": [
        "isim[:]"
      ],
      "execution_count": null,
      "outputs": []
    },
    {
      "cell_type": "code",
      "metadata": {
        "id": "XMCI3McMFKPM"
      },
      "source": [
        "Fethibör"
      ],
      "execution_count": null,
      "outputs": []
    },
    {
      "cell_type": "code",
      "metadata": {
        "id": "ztw--HxQEvxT"
      },
      "source": [
        "b = isim[1:3]\n",
        "b"
      ],
      "execution_count": null,
      "outputs": []
    },
    {
      "cell_type": "code",
      "metadata": {
        "id": "36qqTb-dHl_k"
      },
      "source": [
        "isim"
      ],
      "execution_count": null,
      "outputs": []
    },
    {
      "cell_type": "code",
      "metadata": {
        "id": "GYS3rL1sHl7I"
      },
      "source": [
        "isim[-1:-5]"
      ],
      "execution_count": null,
      "outputs": []
    },
    {
      "cell_type": "code",
      "metadata": {
        "id": "n4Bs4kDoH-g1"
      },
      "source": [
        "F -> 0\n",
        "e -> 1\n",
        "t -> 2\n",
        "h -> 3\n",
        "i -> 4\n",
        "b -> 5 -3\n",
        "ö -> 6 -2\n",
        "r -> 7 -1\n",
        "\n",
        "isim[1:5:-2]\n",
        "isim[0:6] -> 6'ya kadar 6 dahil değil\n",
        "Fethib"
      ],
      "execution_count": null,
      "outputs": []
    },
    {
      "cell_type": "code",
      "metadata": {
        "id": "Ul4gMdlqHr3M"
      },
      "source": [
        "F -> -8 \n",
        "e -> -7\n",
        "t -> -6\n",
        "h -> -5\n",
        "i -> -4\n",
        "b -> -3\n",
        "ö -> -2\n",
        "r -> -1"
      ],
      "execution_count": null,
      "outputs": []
    },
    {
      "cell_type": "code",
      "metadata": {
        "id": "VIu0Qr7SKCNt"
      },
      "source": [
        "isim"
      ],
      "execution_count": null,
      "outputs": []
    },
    {
      "cell_type": "code",
      "metadata": {
        "id": "-DxomJaQIdIZ"
      },
      "source": [
        "isim[5:1:-2]"
      ],
      "execution_count": null,
      "outputs": []
    },
    {
      "cell_type": "code",
      "metadata": {
        "id": "4QQVcxQn8mEa"
      },
      "source": [
        "Fethi"
      ],
      "execution_count": null,
      "outputs": []
    },
    {
      "cell_type": "code",
      "metadata": {
        "id": "dWj_VRgb8pWh"
      },
      "source": [
        "\"\"\"\n",
        "Index sınır dışında olsa bile çalışmasının sebebi:\n",
        "\n",
        "ndeksleme, tek bir öğeyi döndürür, ancak slicing bir aralık dizisini döndürür. Dolayısıyla, var olmayan bir indeks üzerinde indeksleme yaptığınızda \n",
        "döndürülecek bir şey yoktur. Ancak bir diziyi sınırların dışında dilimlediğinizde, yine de boş bir dizi döndürebilirsiniz.\n",
        "\n",
        "\"\"\"\n",
        "isim[6:12]"
      ],
      "execution_count": null,
      "outputs": []
    },
    {
      "cell_type": "code",
      "metadata": {
        "id": "g1XocRVg9yaZ"
      },
      "source": [
        "isim=\"Fethi Tekyaygil\""
      ],
      "execution_count": null,
      "outputs": []
    },
    {
      "cell_type": "code",
      "metadata": {
        "id": "Ly3e-8yk92ri"
      },
      "source": [
        "#isim[0:12]\n",
        "isim[:12]"
      ],
      "execution_count": null,
      "outputs": []
    },
    {
      "cell_type": "code",
      "metadata": {
        "id": "HmDGTYeFI3Qe"
      },
      "source": [
        "isim"
      ],
      "execution_count": null,
      "outputs": []
    },
    {
      "cell_type": "code",
      "metadata": {
        "id": "ksdGqipIJVOA"
      },
      "source": [
        ""
      ],
      "execution_count": null,
      "outputs": []
    },
    {
      "cell_type": "code",
      "metadata": {
        "id": "N6oz1D9GI1cr"
      },
      "source": [
        "isim[1:5:-1]"
      ],
      "execution_count": null,
      "outputs": []
    },
    {
      "cell_type": "code",
      "metadata": {
        "id": "PlnF3oOhI7Ax"
      },
      "source": [
        "|||||||| |||§||§||§||§ ||||||||"
      ],
      "execution_count": null,
      "outputs": []
    },
    {
      "cell_type": "code",
      "metadata": {
        "id": "9JT6Yt_k-R4_"
      },
      "source": [
        "len(isim)"
      ],
      "execution_count": null,
      "outputs": []
    },
    {
      "cell_type": "code",
      "metadata": {
        "id": "1yeG_AUx-1QB"
      },
      "source": [
        "isim"
      ],
      "execution_count": null,
      "outputs": []
    },
    {
      "cell_type": "code",
      "metadata": {
        "id": "8pkmnSE2-OI9"
      },
      "source": [
        "isim[5:]"
      ],
      "execution_count": null,
      "outputs": []
    },
    {
      "cell_type": "code",
      "metadata": {
        "id": "fD1EoSnw--3K"
      },
      "source": [
        "isim[5:]"
      ],
      "execution_count": null,
      "outputs": []
    },
    {
      "cell_type": "code",
      "metadata": {
        "id": "gfe3hP0Z-tCQ"
      },
      "source": [
        "isim[:]\n",
        "#cepte"
      ],
      "execution_count": null,
      "outputs": []
    },
    {
      "cell_type": "code",
      "metadata": {
        "id": "1gW2be5tWek7"
      },
      "source": [
        "#slicing -> kesme (parça alma)\n",
        "hello[2:4]  # [x:y] --> x ten y. karaktere kadar al ama y. karakteri alma."
      ],
      "execution_count": null,
      "outputs": []
    },
    {
      "cell_type": "code",
      "metadata": {
        "id": "SIBXziZZvO8u"
      },
      "source": [
        "list(world)"
      ],
      "execution_count": null,
      "outputs": []
    },
    {
      "cell_type": "code",
      "metadata": {
        "id": "DFxoKm3daCMP"
      },
      "source": [
        "world[1:4]"
      ],
      "execution_count": null,
      "outputs": []
    },
    {
      "cell_type": "code",
      "metadata": {
        "id": "aJ4PKy8TaHpD"
      },
      "source": [
        "print(world[1:5])\n",
        "\n",
        "print(world[1:])"
      ],
      "execution_count": null,
      "outputs": []
    },
    {
      "cell_type": "code",
      "metadata": {
        "id": "tzcUzQpPv3zf"
      },
      "source": [
        "print(world[0:3])\n",
        "\n",
        "print(world[:3])"
      ],
      "execution_count": null,
      "outputs": []
    },
    {
      "cell_type": "code",
      "metadata": {
        "id": "gOkkF0TNwKu5"
      },
      "source": [
        "print(world[:])"
      ],
      "execution_count": null,
      "outputs": []
    },
    {
      "cell_type": "code",
      "metadata": {
        "id": "tG76iN38q85A"
      },
      "source": [
        "list(world)"
      ],
      "execution_count": null,
      "outputs": []
    },
    {
      "cell_type": "markdown",
      "metadata": {
        "id": "ffL4sz6LrYGU"
      },
      "source": [
        "slicing'te işlem soldan sağa indeks numaralarıyla yapılır"
      ]
    },
    {
      "cell_type": "code",
      "metadata": {
        "id": "pAFFW-TT_2W2"
      },
      "source": [
        "isim=\"Fethi Tekyaygil\""
      ],
      "execution_count": null,
      "outputs": []
    },
    {
      "cell_type": "code",
      "metadata": {
        "id": "YZTBT-MpAHiM"
      },
      "source": [
        "F e t h i"
      ],
      "execution_count": null,
      "outputs": []
    },
    {
      "cell_type": "code",
      "metadata": {
        "id": "LJeQ70bJ_2Ui"
      },
      "source": [
        "isim[-3:-1]"
      ],
      "execution_count": null,
      "outputs": []
    },
    {
      "cell_type": "code",
      "metadata": {
        "id": "MA9qEqv8_2Sc"
      },
      "source": [
        "isim[5:-1]"
      ],
      "execution_count": null,
      "outputs": []
    },
    {
      "cell_type": "code",
      "metadata": {
        "id": "SGHNpJcoA2CB"
      },
      "source": [
        " Tekyaygi"
      ],
      "execution_count": null,
      "outputs": []
    },
    {
      "cell_type": "code",
      "metadata": {
        "id": "t3XpZ0MP_2QL"
      },
      "source": [
        "isim[5:len(isim)-1]"
      ],
      "execution_count": null,
      "outputs": []
    },
    {
      "cell_type": "code",
      "metadata": {
        "id": "4QcDffDIBAsW"
      },
      "source": [
        "len(isim)-1"
      ],
      "execution_count": null,
      "outputs": []
    },
    {
      "cell_type": "code",
      "metadata": {
        "id": "f5FAvOQrBC9t"
      },
      "source": [
        "Fethi Tekyaygil"
      ],
      "execution_count": null,
      "outputs": []
    },
    {
      "cell_type": "code",
      "metadata": {
        "id": "tXWWiYALq5TM"
      },
      "source": [
        "print(world[-3:-1])"
      ],
      "execution_count": null,
      "outputs": []
    },
    {
      "cell_type": "code",
      "metadata": {
        "id": "FcV3xKMkkA9U"
      },
      "source": [
        "print(hello)"
      ],
      "execution_count": null,
      "outputs": []
    },
    {
      "cell_type": "code",
      "metadata": {
        "id": "ygsSpdGDaani"
      },
      "source": [
        "hello[:4]"
      ],
      "execution_count": null,
      "outputs": []
    },
    {
      "cell_type": "code",
      "metadata": {
        "id": "OE38aYOvafxr"
      },
      "source": [
        "hello[:]"
      ],
      "execution_count": null,
      "outputs": []
    },
    {
      "cell_type": "code",
      "metadata": {
        "id": "nkLuLBmCwePv"
      },
      "source": [
        "Hello"
      ],
      "execution_count": null,
      "outputs": []
    },
    {
      "cell_type": "code",
      "metadata": {
        "id": "5wRkF5qKxGTE"
      },
      "source": [
        "\"\"\"\n",
        "tip dönüşümü yapacaksanız\n",
        "class-tip(dönüştüreceğiniz değer)\n",
        "\"\"\""
      ],
      "execution_count": null,
      "outputs": []
    },
    {
      "cell_type": "code",
      "metadata": {
        "id": "bHbSo1NvBQ7a"
      },
      "source": [
        "r = range(1,10)"
      ],
      "execution_count": null,
      "outputs": []
    },
    {
      "cell_type": "code",
      "metadata": {
        "id": "s8O1Ih4BOG2K"
      },
      "source": [
        "type(r)"
      ],
      "execution_count": null,
      "outputs": []
    },
    {
      "cell_type": "code",
      "metadata": {
        "id": "rtXzGbC_OLUc"
      },
      "source": [
        "liste = list(r)"
      ],
      "execution_count": null,
      "outputs": []
    },
    {
      "cell_type": "code",
      "metadata": {
        "id": "fPb6hEUsOg6J"
      },
      "source": [
        "liste"
      ],
      "execution_count": null,
      "outputs": []
    },
    {
      "cell_type": "code",
      "metadata": {
        "id": "7jLI4EEuOV4S"
      },
      "source": [
        "type(liste)"
      ],
      "execution_count": null,
      "outputs": []
    },
    {
      "cell_type": "code",
      "metadata": {
        "id": "rvpA1P5iOmCB"
      },
      "source": [
        "list(range(11,1,-2))"
      ],
      "execution_count": null,
      "outputs": []
    },
    {
      "cell_type": "code",
      "metadata": {
        "id": "JAjI669UBQld"
      },
      "source": [
        "list(range(0,11,2))"
      ],
      "execution_count": null,
      "outputs": []
    },
    {
      "cell_type": "code",
      "metadata": {
        "id": "4nNt7DsRsKum"
      },
      "source": [
        "r=range(110,-10,-10)\n",
        "list(r)"
      ],
      "execution_count": null,
      "outputs": []
    },
    {
      "cell_type": "code",
      "metadata": {
        "id": "2A47g6gUwhTY"
      },
      "source": [
        "sayilarListesi=list(range(110,-10,-10))\n",
        "sayilarListesi"
      ],
      "execution_count": null,
      "outputs": []
    },
    {
      "cell_type": "code",
      "metadata": {
        "id": "nGQdm9TUPNDe"
      },
      "source": [
        "list(range(20))"
      ],
      "execution_count": null,
      "outputs": []
    },
    {
      "cell_type": "code",
      "metadata": {
        "id": "J1FuMNqIB-Qv"
      },
      "source": [
        "l1=range(21)"
      ],
      "execution_count": null,
      "outputs": []
    },
    {
      "cell_type": "code",
      "metadata": {
        "id": "ewTzdgiXCC0a"
      },
      "source": [
        "list(l1)"
      ],
      "execution_count": null,
      "outputs": []
    },
    {
      "cell_type": "code",
      "metadata": {
        "id": "n-WGOh42B-OY"
      },
      "source": [
        "list(l1[::-5])"
      ],
      "execution_count": null,
      "outputs": []
    },
    {
      "cell_type": "code",
      "metadata": {
        "id": "5vhKA6dDxZdz"
      },
      "source": [
        "ciftler=l1[7::5]\n",
        "list(ciftler)"
      ],
      "execution_count": null,
      "outputs": []
    },
    {
      "cell_type": "code",
      "metadata": {
        "id": "1MTSBM41PcNO"
      },
      "source": [
        "s_list = list(range(11))\n",
        "s_list"
      ],
      "execution_count": null,
      "outputs": []
    },
    {
      "cell_type": "code",
      "metadata": {
        "id": "xfRitOI-P98x"
      },
      "source": [
        "import random"
      ],
      "execution_count": null,
      "outputs": []
    },
    {
      "cell_type": "code",
      "metadata": {
        "id": "3KazHvhKP3jl"
      },
      "source": [
        "random.choice(s_list)"
      ],
      "execution_count": null,
      "outputs": []
    },
    {
      "cell_type": "code",
      "metadata": {
        "id": "xDmiGfSNQI2E"
      },
      "source": [
        "rastgele = random.random()\n",
        "s_list[rastgele]"
      ],
      "execution_count": null,
      "outputs": []
    },
    {
      "cell_type": "code",
      "metadata": {
        "id": "_nroWyApQyE4"
      },
      "source": [
        "random.random() * 100"
      ],
      "execution_count": null,
      "outputs": []
    },
    {
      "cell_type": "code",
      "metadata": {
        "id": "7RVTiCJOHATC"
      },
      "source": [
        "?random.random()"
      ],
      "execution_count": null,
      "outputs": []
    },
    {
      "cell_type": "code",
      "metadata": {
        "id": "xT1Sd31PsyZR"
      },
      "source": [
        "sayilarListesi"
      ],
      "execution_count": null,
      "outputs": []
    },
    {
      "cell_type": "code",
      "metadata": {
        "id": "8wZV6RA3yMw9"
      },
      "source": [
        "ciftler=sayilarListesi[::5]\n",
        "ciftler"
      ],
      "execution_count": null,
      "outputs": []
    },
    {
      "cell_type": "code",
      "metadata": {
        "id": "4-OPTeeTzFHz"
      },
      "source": [
        "sayilarListesi[::-1]"
      ],
      "execution_count": null,
      "outputs": []
    },
    {
      "cell_type": "code",
      "metadata": {
        "id": "4d12Mq3n03zL"
      },
      "source": [
        "hello[::-1]"
      ],
      "execution_count": null,
      "outputs": []
    },
    {
      "cell_type": "code",
      "metadata": {
        "id": "oWy0bZzFnNoa"
      },
      "source": [
        "print(world)"
      ],
      "execution_count": null,
      "outputs": []
    },
    {
      "cell_type": "code",
      "metadata": {
        "id": "uGTW5HzeNbHr"
      },
      "source": [
        "isim"
      ],
      "execution_count": null,
      "outputs": []
    },
    {
      "cell_type": "code",
      "metadata": {
        "id": "vcgAo385Ncyv"
      },
      "source": [
        "isim[0:-3]"
      ],
      "execution_count": null,
      "outputs": []
    },
    {
      "cell_type": "code",
      "metadata": {
        "id": "vG076dUoalJq"
      },
      "source": [
        "print(world[:-3])\n",
        "print(world[:2])"
      ],
      "execution_count": null,
      "outputs": []
    },
    {
      "cell_type": "code",
      "metadata": {
        "id": "z2U6_KMEngKU"
      },
      "source": [
        "print(hello)"
      ],
      "execution_count": null,
      "outputs": []
    },
    {
      "cell_type": "code",
      "metadata": {
        "id": "1kCxbvrVauoV"
      },
      "source": [
        "hello[2:5]"
      ],
      "execution_count": null,
      "outputs": []
    },
    {
      "cell_type": "code",
      "metadata": {
        "id": "3hrKJQS2a6A5"
      },
      "source": [
        "world[2:4:1]   # [başlangıç:bitiş:step_sayısı]\n",
        "world[2:4]"
      ],
      "execution_count": null,
      "outputs": []
    },
    {
      "cell_type": "code",
      "metadata": {
        "id": "sKjev0BBvD-x"
      },
      "source": [
        "liste1=[1,2,3,4,5]\n",
        "liste1[::2]"
      ],
      "execution_count": null,
      "outputs": []
    },
    {
      "cell_type": "code",
      "metadata": {
        "id": "1Kgd14H_bNAj"
      },
      "source": [
        "city = \"istanbul\"\n",
        "city[0:6:2]"
      ],
      "execution_count": null,
      "outputs": []
    },
    {
      "cell_type": "code",
      "metadata": {
        "id": "rhacPxp2Hant"
      },
      "source": [
        "itn"
      ],
      "execution_count": null,
      "outputs": []
    },
    {
      "cell_type": "code",
      "metadata": {
        "id": "5UeVVNV0HuwL"
      },
      "source": [
        "import random\n",
        "listeSahin=list(range(0,101))\n",
        "\n",
        "r1=random.choice(listeSahin)\n",
        "\n",
        "listeSahin.remove(r1)"
      ],
      "execution_count": null,
      "outputs": []
    },
    {
      "cell_type": "code",
      "metadata": {
        "id": "9C_-2w0hIHCB"
      },
      "source": [
        "?random.choice()"
      ],
      "execution_count": null,
      "outputs": []
    },
    {
      "cell_type": "code",
      "metadata": {
        "id": "U-D23rPUvYFR"
      },
      "source": [
        "city"
      ],
      "execution_count": null,
      "outputs": []
    },
    {
      "cell_type": "code",
      "metadata": {
        "id": "7DcJJgzHcLUe"
      },
      "source": [
        "\"t\" in city"
      ],
      "execution_count": null,
      "outputs": []
    },
    {
      "cell_type": "code",
      "metadata": {
        "id": "JpWOAe0lcVlX"
      },
      "source": [
        "\"y\" in city"
      ],
      "execution_count": null,
      "outputs": []
    },
    {
      "cell_type": "code",
      "metadata": {
        "id": "mAFs1_oMcYgR"
      },
      "source": [
        "\"anb\" in city"
      ],
      "execution_count": null,
      "outputs": []
    },
    {
      "cell_type": "code",
      "metadata": {
        "id": "0CTtKKESbR4o"
      },
      "source": [
        "for ch in [\"s\",\"n\",\"l\"]:\n",
        "  print(ch in city)"
      ],
      "execution_count": null,
      "outputs": []
    },
    {
      "cell_type": "code",
      "metadata": {
        "id": "M4CNuMyXvg4E"
      },
      "source": [
        "\"S\" in city"
      ],
      "execution_count": null,
      "outputs": []
    },
    {
      "cell_type": "code",
      "metadata": {
        "id": "tsVub6PUwy_5"
      },
      "source": [
        "type(2)"
      ],
      "execution_count": null,
      "outputs": []
    },
    {
      "cell_type": "code",
      "metadata": {
        "id": "5lEA4XvscNz4"
      },
      "source": [
        "n = 10\n",
        "str(n)"
      ],
      "execution_count": null,
      "outputs": []
    },
    {
      "cell_type": "code",
      "metadata": {
        "id": "fzWxmiIwcZQw"
      },
      "source": [
        "s = '13'\n",
        "print(type(s))\n",
        "s=int(s)\n",
        "print(type(s))"
      ],
      "execution_count": null,
      "outputs": []
    },
    {
      "cell_type": "code",
      "metadata": {
        "id": "qOehpC90cqeg"
      },
      "source": [
        "s = 'ist'\n",
        "int(s)"
      ],
      "execution_count": null,
      "outputs": []
    },
    {
      "cell_type": "code",
      "metadata": {
        "id": "Cqef9NxWcu0f"
      },
      "source": [
        "m = 8\n",
        "print(type(m))\n",
        "m=float(m)\n",
        "print(m)"
      ],
      "execution_count": null,
      "outputs": []
    },
    {
      "cell_type": "code",
      "metadata": {
        "id": "QOay86Z9dqQb"
      },
      "source": [
        "ai = 'artificial' + ' ' + 'intelligence'\n",
        "print(ai)"
      ],
      "execution_count": null,
      "outputs": []
    },
    {
      "cell_type": "markdown",
      "metadata": {
        "id": "ssLUQCpryP64"
      },
      "source": [
        "# String Operasyonları"
      ]
    },
    {
      "cell_type": "code",
      "metadata": {
        "id": "_EawZxcoRT-9"
      },
      "source": [
        "word.capitalize()"
      ],
      "execution_count": null,
      "outputs": []
    },
    {
      "cell_type": "code",
      "metadata": {
        "id": "XCHJCwfBIjGJ"
      },
      "source": [
        "word = 'Fethibör Tahabör'"
      ],
      "execution_count": null,
      "outputs": []
    },
    {
      "cell_type": "code",
      "metadata": {
        "id": "AqgMDT-DIofQ"
      },
      "source": [
        "word.capitalize()"
      ],
      "execution_count": null,
      "outputs": []
    },
    {
      "cell_type": "code",
      "metadata": {
        "id": "3nF1ST9UfCGu"
      },
      "source": [
        "word.upper()"
      ],
      "execution_count": null,
      "outputs": []
    },
    {
      "cell_type": "code",
      "metadata": {
        "id": "_4edb9WLzO0-"
      },
      "source": [
        "word.lower()"
      ],
      "execution_count": null,
      "outputs": []
    },
    {
      "cell_type": "code",
      "metadata": {
        "id": "mer_Ek1bJCDZ"
      },
      "source": [
        "word.replace(\"bör\",\"för\")"
      ],
      "execution_count": null,
      "outputs": []
    },
    {
      "cell_type": "code",
      "metadata": {
        "id": "lxw05MW3RnOH"
      },
      "source": [
        "word2 = \"FETHIBOR TAHABOR\""
      ],
      "execution_count": null,
      "outputs": []
    },
    {
      "cell_type": "code",
      "metadata": {
        "id": "LVuqrO9gRrMK"
      },
      "source": [
        "word2.lower().replace(\"bör\",\"för\").replace(\"BOR\",\"FOR\")"
      ],
      "execution_count": null,
      "outputs": []
    },
    {
      "cell_type": "code",
      "metadata": {
        "id": "XGNFTaqYSErs"
      },
      "source": [
        "word2"
      ],
      "execution_count": null,
      "outputs": []
    },
    {
      "cell_type": "code",
      "metadata": {
        "id": "BwBaeJNkI6RY"
      },
      "source": [
        "word=word.lower().replace(\"t\",'F')"
      ],
      "execution_count": null,
      "outputs": []
    },
    {
      "cell_type": "code",
      "metadata": {
        "id": "ZOE5zOPcJYpU"
      },
      "source": [
        "word=word.replace(\"a\",\"e\")"
      ],
      "execution_count": null,
      "outputs": []
    },
    {
      "cell_type": "code",
      "metadata": {
        "id": "Xa_RJUqaJu8y"
      },
      "source": [
        "word"
      ],
      "execution_count": null,
      "outputs": []
    },
    {
      "cell_type": "code",
      "metadata": {
        "id": "C7id4p97K-3j"
      },
      "source": [
        "word.lower().replace(\"t\",\"F\")"
      ],
      "execution_count": null,
      "outputs": []
    },
    {
      "cell_type": "code",
      "metadata": {
        "id": "RWdZ2lbbKLd0"
      },
      "source": [
        "?word.replace()"
      ],
      "execution_count": null,
      "outputs": []
    },
    {
      "cell_type": "code",
      "metadata": {
        "id": "i_N2GjNZ0MrJ"
      },
      "source": [
        "?str"
      ],
      "execution_count": null,
      "outputs": []
    },
    {
      "cell_type": "code",
      "metadata": {
        "id": "Z4QvFtE80CW_"
      },
      "source": [
        "?ml2.replace"
      ],
      "execution_count": null,
      "outputs": []
    },
    {
      "cell_type": "code",
      "metadata": {
        "id": "dD9Mygb9zr-h"
      },
      "source": [
        "ml2=\"machine learning\"\n",
        "ml2_yeni = ml2.replace(\"a\",\"e\").replace(\"l\",\"i\")\n",
        "print(ml2_yeni)"
      ],
      "execution_count": null,
      "outputs": []
    },
    {
      "cell_type": "code",
      "metadata": {
        "id": "uHoazjWoSP0y"
      },
      "source": [
        "ml2"
      ],
      "execution_count": null,
      "outputs": []
    },
    {
      "cell_type": "code",
      "metadata": {
        "id": "TjnWT_9Zfs2r"
      },
      "source": [
        "word"
      ],
      "execution_count": null,
      "outputs": []
    },
    {
      "cell_type": "code",
      "metadata": {
        "id": "3X_t1LNHSutP"
      },
      "source": [
        "\"fethi\" \" fethi\"\n",
        "\"123\"   \"123    \""
      ],
      "execution_count": null,
      "outputs": []
    },
    {
      "cell_type": "code",
      "metadata": {
        "id": "tf9JQQDnKroB"
      },
      "source": [
        "Kullanıcı Adı: \"fethi\" != \"fethi\"\n",
        "Şifre: \" 123\""
      ],
      "execution_count": null,
      "outputs": []
    },
    {
      "cell_type": "code",
      "metadata": {
        "id": "YAC2kRumS9cE"
      },
      "source": [
        "word2 = \"          artificial general      intelligence    \""
      ],
      "execution_count": null,
      "outputs": []
    },
    {
      "cell_type": "code",
      "metadata": {
        "id": "wrkJnTEuTLIZ"
      },
      "source": [
        "len(word2)"
      ],
      "execution_count": null,
      "outputs": []
    },
    {
      "cell_type": "code",
      "metadata": {
        "id": "aSCB9y_3S-0a"
      },
      "source": [
        "word2"
      ],
      "execution_count": null,
      "outputs": []
    },
    {
      "cell_type": "code",
      "metadata": {
        "id": "3lhbnciBTDx5"
      },
      "source": [
        "word2.strip()"
      ],
      "execution_count": null,
      "outputs": []
    },
    {
      "cell_type": "code",
      "metadata": {
        "id": "H1WYJsidfw-G"
      },
      "source": [
        "len(word2.strip())"
      ],
      "execution_count": null,
      "outputs": []
    },
    {
      "cell_type": "code",
      "metadata": {
        "id": "YcA7QOXa1END"
      },
      "source": [
        "?input"
      ],
      "execution_count": null,
      "outputs": []
    },
    {
      "cell_type": "code",
      "metadata": {
        "id": "5NOqOvIu1Ogb"
      },
      "source": [
        "sayi=input(\"Bana sayı ver: \")\n",
        "sayi=int(sayi)\n",
        "sayi+=1\n",
        "print(sayi)"
      ],
      "execution_count": null,
      "outputs": []
    },
    {
      "cell_type": "code",
      "metadata": {
        "id": "Voc6zKLzhlmv"
      },
      "source": [
        "y = input(\"Please enter a city name: \")  #input her zaman string alır\n",
        "\n",
        "print(y)\n",
        "print(type(y))"
      ],
      "execution_count": null,
      "outputs": []
    },
    {
      "cell_type": "code",
      "metadata": {
        "id": "3zyJI9oljhQi"
      },
      "source": [
        "x = int(input(\"Please enter an integer: \"))\n",
        "print(x)\n",
        "print(type(x))"
      ],
      "execution_count": null,
      "outputs": []
    },
    {
      "cell_type": "code",
      "metadata": {
        "id": "JVZJuwHpTZpx"
      },
      "source": [
        "isim = 2+3\n",
        "print(f\"Merhaba {isim}\")"
      ],
      "execution_count": null,
      "outputs": []
    },
    {
      "cell_type": "code",
      "metadata": {
        "id": "kTjmZcDaT9E-"
      },
      "source": [
        "True -> 1\n",
        "False -> 0"
      ],
      "execution_count": null,
      "outputs": []
    },
    {
      "cell_type": "code",
      "metadata": {
        "id": "mWz5Y4r4Txvq"
      },
      "source": [
        "2 -> \"2\""
      ],
      "execution_count": null,
      "outputs": []
    },
    {
      "cell_type": "code",
      "metadata": {
        "id": "OGS-YMaOlB34"
      },
      "source": [
        "month = 12\n",
        "day = 365\n",
        "\n",
        "print('Bir yıl', month, 'ay,', day, 'gündür.', sep =' ') #seperator ayırtaç ayırıcı\n",
        "print('Bir yıl ', month, ' ay, ', day, ' gündür.', sep ='')\n",
        "\n",
        "print(\"Bir yıl \" + str(month) + \" ay, \" + str(day) + \" gündür.\")"
      ],
      "execution_count": null,
      "outputs": []
    }
  ]
}